{
 "cells": [
  {
   "cell_type": "code",
   "outputs": [],
   "source": [
    "import json\n",
    "from websocket import WebSocketApp\n",
    "import config\n",
    "from src.exchanges.binance.endpoints import WsStreamLinks"
   ],
   "metadata": {
    "collapsed": false,
    "ExecuteTime": {
     "end_time": "2024-03-14T15:18:56.934981Z",
     "start_time": "2024-03-14T15:18:56.921935Z"
    }
   },
   "id": "af0a62b572282283",
   "execution_count": 1
  },
  {
   "cell_type": "code",
   "outputs": [],
   "source": [
    "def on_message(ws, message):\n",
    "  order_book = json.loads(message)\n",
    "  print(\"Order Book Update:\")\n",
    "  print(\"Bids:\")\n",
    "  for bid in order_book['bids']:\n",
    "    print(\"Price:\", bid[0], \"Quantity:\", bid[1])\n",
    "  print(\"Asks:\")\n",
    "  for ask in order_book['asks']:\n",
    "    print(\"Price:\", ask[0], \"Quantity:\", ask[1])\n"
   ],
   "metadata": {
    "collapsed": false,
    "ExecuteTime": {
     "end_time": "2024-03-14T15:18:56.938971Z",
     "start_time": "2024-03-14T15:18:56.936255Z"
    }
   },
   "id": "2a5d4ce62224e174",
   "execution_count": 2
  },
  {
   "cell_type": "code",
   "outputs": [],
   "source": [
    "def on_error(ws, error):\n",
    "  \"\"\"Handles errors during the WebSocket connection.\"\"\"\n",
    "  print(f\"Error: {error}\")"
   ],
   "metadata": {
    "collapsed": false,
    "ExecuteTime": {
     "end_time": "2024-03-14T15:18:56.941961Z",
     "start_time": "2024-03-14T15:18:56.939668Z"
    }
   },
   "id": "93867158c2aae83d",
   "execution_count": 3
  },
  {
   "cell_type": "code",
   "outputs": [],
   "source": [
    "def on_close(ws):\n",
    "  \"\"\"Logs the WebSocket connection closure.\"\"\"\n",
    "  print(\"Connection closed\")"
   ],
   "metadata": {
    "collapsed": false,
    "ExecuteTime": {
     "end_time": "2024-03-14T15:18:57.482554Z",
     "start_time": "2024-03-14T15:18:57.480120Z"
    }
   },
   "id": "a62fb6c5d04f2d0d",
   "execution_count": 4
  },
  {
   "cell_type": "code",
   "outputs": [],
   "source": [
    "def on_open(ws):\n",
    "  print(\"Connection opened\")"
   ],
   "metadata": {
    "collapsed": false,
    "ExecuteTime": {
     "end_time": "2024-03-14T15:18:58.313634Z",
     "start_time": "2024-03-14T15:18:58.310513Z"
    }
   },
   "id": "3e6065a59d903c6d",
   "execution_count": 5
  },
  {
   "cell_type": "code",
   "outputs": [
    {
     "name": "stdout",
     "output_type": "stream",
     "text": [
      "dogeusd_perp\n"
     ]
    }
   ],
   "source": [
    "symbol: str = config.binance_ticker.lower()\n",
    "print(symbol)"
   ],
   "metadata": {
    "collapsed": false,
    "ExecuteTime": {
     "end_time": "2024-03-14T15:18:58.998771Z",
     "start_time": "2024-03-14T15:18:58.995811Z"
    }
   },
   "id": "1b801bc0f6845485",
   "execution_count": 6
  },
  {
   "cell_type": "code",
   "outputs": [
    {
     "name": "stdout",
     "output_type": "stream",
     "text": [
      "wss://fstream.binance.com//stream?streams=dogeusd_perp@depth@100ms/\n"
     ]
    }
   ],
   "source": [
    "futures_base_url = WsStreamLinks.FUTURES_PUBLIC_STREAM\n",
    "url = futures_base_url + \"/stream?streams=\"\n",
    "stream = f\"{symbol}@depth@100ms/\"\n",
    "url += stream\n",
    "print(url)"
   ],
   "metadata": {
    "collapsed": false,
    "ExecuteTime": {
     "end_time": "2024-03-14T15:18:59.733254Z",
     "start_time": "2024-03-14T15:18:59.729966Z"
    }
   },
   "id": "64c5c355e7925ead",
   "execution_count": 7
  },
  {
   "cell_type": "code",
   "outputs": [],
   "source": [
    "# Create a WebSocket connection\n",
    "ws_app = WebSocketApp(url, on_message=on_message, on_error=on_error, on_close=on_close, on_open=on_open)"
   ],
   "metadata": {
    "collapsed": false,
    "ExecuteTime": {
     "end_time": "2024-03-14T15:19:00.644561Z",
     "start_time": "2024-03-14T15:19:00.642659Z"
    }
   },
   "id": "416d53c529b62c1e",
   "execution_count": 8
  },
  {
   "cell_type": "code",
   "outputs": [
    {
     "name": "stdout",
     "output_type": "stream",
     "text": [
      "Error: Handshake status 403 Forbidden -+-+- {'server': 'awselb/2.0', 'date': 'Thu, 14 Mar 2024 15:19:13 GMT', 'content-type': 'text/html', 'content-length': '118', 'connection': 'keep-alive'} -+-+- b'<html>\\r\\n<head><title>403 Forbidden</title></head>\\r\\n<body>\\r\\n<center><h1>403 Forbidden</h1></center>\\r\\n</body>\\r\\n</html>\\r\\n'\n",
      "Error: on_close() takes 1 positional argument but 3 were given\n"
     ]
    },
    {
     "data": {
      "text/plain": "True"
     },
     "execution_count": 9,
     "metadata": {},
     "output_type": "execute_result"
    }
   ],
   "source": [
    "# Keep the connection open\n",
    "ws_app.run_forever()"
   ],
   "metadata": {
    "collapsed": false,
    "ExecuteTime": {
     "end_time": "2024-03-14T15:19:13.420570Z",
     "start_time": "2024-03-14T15:19:12.208360Z"
    }
   },
   "id": "4b96de7fb5359e62",
   "execution_count": 9
  },
  {
   "cell_type": "code",
   "outputs": [
    {
     "name": "stderr",
     "output_type": "stream",
     "text": [
      "Error from callback <function message_handler at 0x11586cc20>: name 'logging' is not defined\n",
      "Error from callback <function message_handler at 0x11586cc20>: name 'logging' is not defined\n",
      "Error from callback <function message_handler at 0x11586cc20>: name 'logging' is not defined\n",
      "Error from callback <function message_handler at 0x11586cc20>: name 'logging' is not defined\n",
      "Error from callback <function message_handler at 0x11586cc20>: name 'logging' is not defined\n",
      "Error from callback <function message_handler at 0x11586cc20>: name 'logging' is not defined\n",
      "Error from callback <function message_handler at 0x11586cc20>: name 'logging' is not defined\n",
      "Error from callback <function message_handler at 0x11586cc20>: name 'logging' is not defined\n",
      "Error from callback <function message_handler at 0x11586cc20>: name 'logging' is not defined\n",
      "Error from callback <function message_handler at 0x11586cc20>: name 'logging' is not defined\n",
      "Error from callback <function message_handler at 0x11586cc20>: name 'logging' is not defined\n",
      "Error from callback <function message_handler at 0x11586cc20>: name 'logging' is not defined\n",
      "Error from callback <function message_handler at 0x11586cc20>: name 'logging' is not defined\n",
      "Error from callback <function message_handler at 0x11586cc20>: name 'logging' is not defined\n",
      "Error from callback <function message_handler at 0x11586cc20>: name 'logging' is not defined\n",
      "Error from callback <function message_handler at 0x11586cc20>: name 'logging' is not defined\n"
     ]
    },
    {
     "ename": "NameError",
     "evalue": "name 'logging' is not defined",
     "output_type": "error",
     "traceback": [
      "\u001B[0;31m---------------------------------------------------------------------------\u001B[0m",
      "\u001B[0;31mNameError\u001B[0m                                 Traceback (most recent call last)",
      "Cell \u001B[0;32mIn[10], line 13\u001B[0m\n\u001B[1;32m     11\u001B[0m my_client\u001B[38;5;241m.\u001B[39magg_trade(symbol\u001B[38;5;241m=\u001B[39m\u001B[38;5;124m\"\u001B[39m\u001B[38;5;124mbnbusdt\u001B[39m\u001B[38;5;124m\"\u001B[39m)\n\u001B[1;32m     12\u001B[0m time\u001B[38;5;241m.\u001B[39msleep(\u001B[38;5;241m5\u001B[39m)\n\u001B[0;32m---> 13\u001B[0m \u001B[43mlogging\u001B[49m\u001B[38;5;241m.\u001B[39minfo(\u001B[38;5;124m\"\u001B[39m\u001B[38;5;124mclosing ws connection\u001B[39m\u001B[38;5;124m\"\u001B[39m)\n\u001B[1;32m     14\u001B[0m my_client\u001B[38;5;241m.\u001B[39mstop()\n",
      "\u001B[0;31mNameError\u001B[0m: name 'logging' is not defined"
     ]
    }
   ],
   "source": [
    "# WebSocket Stream Client\n",
    "import time\n",
    "from binance.websocket.um_futures.websocket_client import UMFuturesWebsocketClient\n",
    "\n",
    "def message_handler(_, message):\n",
    "    logging.info(message)\n",
    "\n",
    "my_client = UMFuturesWebsocketClient(on_message=message_handler)\n",
    "\n",
    "# Subscribe to a single symbol stream\n",
    "my_client.agg_trade(symbol=\"bnbusdt\")\n",
    "time.sleep(5)\n",
    "logging.info(\"closing ws connection\")\n",
    "my_client.stop()"
   ],
   "metadata": {
    "collapsed": false,
    "ExecuteTime": {
     "end_time": "2024-03-14T15:00:55.784444Z",
     "start_time": "2024-03-14T15:00:49.606379Z"
    }
   },
   "id": "5574d4259888523d",
   "execution_count": 10
  },
  {
   "cell_type": "code",
   "outputs": [
    {
     "name": "stderr",
     "output_type": "stream",
     "text": [
      "DEBUG:root:url: https://dapi.binance.com/dapi/v1/ticker/bookTicker\n",
      "DEBUG:urllib3.connectionpool:Starting new HTTPS connection (1): dapi.binance.com:443\n",
      "INFO:root:{\"e\":\"aggTrade\",\"E\":1710428558468,\"a\":540430651,\"s\":\"BNBUSDT\",\"p\":\"599.730\",\"q\":\"10.00\",\"f\":1197042762,\"l\":1197042764,\"T\":1710428558352,\"m\":true}\n",
      "INFO:root:{\"e\":\"aggTrade\",\"E\":1710428558576,\"a\":540430652,\"s\":\"BNBUSDT\",\"p\":\"599.740\",\"q\":\"1.08\",\"f\":1197042765,\"l\":1197042767,\"T\":1710428558463,\"m\":false}\n",
      "INFO:root:{\"e\":\"aggTrade\",\"E\":1710428558727,\"a\":540430653,\"s\":\"BNBUSDT\",\"p\":\"599.730\",\"q\":\"11.00\",\"f\":1197042768,\"l\":1197042776,\"T\":1710428558572,\"m\":true}\n",
      "INFO:root:{\"e\":\"aggTrade\",\"E\":1710428558909,\"a\":540430654,\"s\":\"BNBUSDT\",\"p\":\"599.670\",\"q\":\"2.42\",\"f\":1197042777,\"l\":1197042777,\"T\":1710428558906,\"m\":true}\n",
      "INFO:root:{\"e\":\"aggTrade\",\"E\":1710428558911,\"a\":540430655,\"s\":\"BNBUSDT\",\"p\":\"599.650\",\"q\":\"4.53\",\"f\":1197042778,\"l\":1197042778,\"T\":1710428558906,\"m\":true}\n",
      "INFO:root:{\"e\":\"aggTrade\",\"E\":1710428558911,\"a\":540430656,\"s\":\"BNBUSDT\",\"p\":\"599.630\",\"q\":\"1.88\",\"f\":1197042779,\"l\":1197042779,\"T\":1710428558907,\"m\":true}\n",
      "INFO:root:{\"e\":\"aggTrade\",\"E\":1710428558911,\"a\":540430657,\"s\":\"BNBUSDT\",\"p\":\"599.620\",\"q\":\"0.11\",\"f\":1197042780,\"l\":1197042780,\"T\":1710428558907,\"m\":true}\n",
      "INFO:root:{\"e\":\"aggTrade\",\"E\":1710428559062,\"a\":540430658,\"s\":\"BNBUSDT\",\"p\":\"599.610\",\"q\":\"2.91\",\"f\":1197042781,\"l\":1197042784,\"T\":1710428558907,\"m\":true}\n",
      "DEBUG:urllib3.connectionpool:https://dapi.binance.com:443 \"GET /dapi/v1/ticker/bookTicker?symbol=BTCUSD_PERP HTTP/1.1\" 200 None\n",
      "DEBUG:root:raw response from server:[{\"symbol\":\"BTCUSD_PERP\",\"pair\":\"BTCUSD\",\"bidPrice\":\"71902.7\",\"bidQty\":\"609\",\"askPrice\":\"71902.8\",\"askQty\":\"5425\",\"time\":1710428559470,\"lastUpdateId\":885524456686}]\n",
      "INFO:root:[{'symbol': 'BTCUSD_PERP', 'pair': 'BTCUSD', 'bidPrice': '71902.7', 'bidQty': '609', 'askPrice': '71902.8', 'askQty': '5425', 'time': 1710428559470, 'lastUpdateId': 885524456686}]\n"
     ]
    }
   ],
   "source": [
    "#!/usr/bin/env python\n",
    "import logging\n",
    "from binance.cm_futures import CMFutures\n",
    "from binance.lib.utils import config_logging\n",
    "\n",
    "config_logging(logging, logging.DEBUG)\n",
    "\n",
    "cm_futures_client = CMFutures()\n",
    "\n",
    "logging.info(cm_futures_client.book_ticker(\"BTCUSD_PERP\"))"
   ],
   "metadata": {
    "collapsed": false,
    "ExecuteTime": {
     "end_time": "2024-03-14T15:02:39.637814Z",
     "start_time": "2024-03-14T15:02:38.383023Z"
    }
   },
   "id": "4a6dcc62874ea0f5",
   "execution_count": 11
  },
  {
   "cell_type": "code",
   "outputs": [],
   "source": [],
   "metadata": {
    "collapsed": false
   },
   "id": "8bc56ad0a230c3e3"
  }
 ],
 "metadata": {
  "kernelspec": {
   "display_name": "Python 3",
   "language": "python",
   "name": "python3"
  },
  "language_info": {
   "codemirror_mode": {
    "name": "ipython",
    "version": 2
   },
   "file_extension": ".py",
   "mimetype": "text/x-python",
   "name": "python",
   "nbconvert_exporter": "python",
   "pygments_lexer": "ipython2",
   "version": "2.7.6"
  }
 },
 "nbformat": 4,
 "nbformat_minor": 5
}
